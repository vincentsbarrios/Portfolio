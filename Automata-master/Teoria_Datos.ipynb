{
  "nbformat": 4,
  "nbformat_minor": 0,
  "metadata": {
    "colab": {
      "name": "Teoria Datos.ipynb",
      "provenance": [],
      "collapsed_sections": [],
      "authorship_tag": "ABX9TyOxLGMYXFzEPYLruGgiDyhD",
      "include_colab_link": true
    },
    "kernelspec": {
      "name": "python3",
      "display_name": "Python 3"
    }
  },
  "cells": [
    {
      "cell_type": "markdown",
      "metadata": {
        "id": "view-in-github",
        "colab_type": "text"
      },
      "source": [
        "<a href=\"https://colab.research.google.com/github/vincentsbarrios/Teoria_Computacion/blob/master/Teoria_Datos.ipynb\" target=\"_parent\"><img src=\"https://colab.research.google.com/assets/colab-badge.svg\" alt=\"Open In Colab\"/></a>"
      ]
    },
    {
      "cell_type": "markdown",
      "metadata": {
        "id": "2NB3n-gzTRLy",
        "colab_type": "text"
      },
      "source": [
        "SEMANA 1 \n",
        "\n",
        "\n",
        "---\n",
        "\n"
      ]
    },
    {
      "cell_type": "markdown",
      "metadata": {
        "id": "2Krc68lwbYPD",
        "colab_type": "text"
      },
      "source": [
        "***a* es un elemento**\n",
        "\n",
        "***A* es un conjunto**\n",
        "\n",
        "\n",
        "---\n",
        "\n"
      ]
    },
    {
      "cell_type": "markdown",
      "metadata": {
        "id": "5VLQfebOS6in",
        "colab_type": "text"
      },
      "source": [
        "\n",
        "\n",
        "**a pertenece a A**"
      ]
    },
    {
      "cell_type": "code",
      "metadata": {
        "id": "Y51JkEowSf27",
        "colab_type": "code",
        "colab": {
          "base_uri": "https://localhost:8080/",
          "height": 50
        },
        "outputId": "dd89223d-4dc6-4d6e-c5bf-67c8ba890f42"
      },
      "source": [
        "a = 10\n",
        "A = [1,2,3,4,10]\n",
        "\n",
        "for x in A:\n",
        "  if x == a: \n",
        "    print(\"true\")\n",
        "\n",
        "a in A"
      ],
      "execution_count": null,
      "outputs": [
        {
          "output_type": "stream",
          "text": [
            "true\n"
          ],
          "name": "stdout"
        },
        {
          "output_type": "execute_result",
          "data": {
            "text/plain": [
              "False"
            ]
          },
          "metadata": {
            "tags": []
          },
          "execution_count": 20
        }
      ]
    },
    {
      "cell_type": "markdown",
      "metadata": {
        "id": "WE_8FiN6bHAn",
        "colab_type": "text"
      },
      "source": [
        "\n",
        "**a no pertenece a A**"
      ]
    },
    {
      "cell_type": "code",
      "metadata": {
        "id": "bBxyiziYbDUC",
        "colab_type": "code",
        "colab": {}
      },
      "source": [
        "a = 10\n",
        "A = [1,2,3,4,10]\n",
        "a not in A"
      ],
      "execution_count": null,
      "outputs": []
    },
    {
      "cell_type": "markdown",
      "metadata": {
        "id": "izajrik9dZAY",
        "colab_type": "text"
      },
      "source": [
        "Arreglos Finitos\n",
        "\n",
        "A = {1,2,3,4,5}\n",
        "\n",
        "Arreglos infinitos \n",
        "\n",
        "N={1,2,3,..}\n",
        "\n",
        "N+={0,1,2,..}\n",
        "\n",
        "*   Lo importante no es el orden si no si elemento se encuentra\n",
        "*   Ejemplos arreglos infinitos son senales de datos, piexas de tetris, cantidad de autos entrando a una autopista, etc\n",
        "\n"
      ]
    },
    {
      "cell_type": "markdown",
      "metadata": {
        "id": "qMH1SGD-en1q",
        "colab_type": "text"
      },
      "source": [
        "**a** es un escalar (escalar se refiere a un solo elemento) es un tipo de operacion\n",
        "\n",
        "**{a}** es un conjunto\n",
        "\n",
        "Ejemplo:\n",
        "* Edades nuestra edades es un conjunto\n",
        "* Ordenar Edades es un conjunto\n",
        "* Promedio de las edades es un escalar"
      ]
    },
    {
      "cell_type": "code",
      "metadata": {
        "id": "cquke6FucA73",
        "colab_type": "code",
        "colab": {}
      },
      "source": [
        "a + {a}\n",
        "#unsupported operand type(s) for +: 'int' and 'set'"
      ],
      "execution_count": null,
      "outputs": []
    },
    {
      "cell_type": "markdown",
      "metadata": {
        "id": "rWcyrYDqf2nX",
        "colab_type": "text"
      },
      "source": [
        "### Ejemplo: {{a,b}} =/ {a,b}\n",
        "\n",
        "* {{a,b}} -> es un conjunto \n",
        "* {a,b}   -> es un escalar\n",
        "\n",
        "Esto ocurre ya que {a,b} es un elemento del conjunto de -> { {a,b} , {c,d} }"
      ]
    },
    {
      "cell_type": "code",
      "metadata": {
        "id": "binOiFuYgzwu",
        "colab_type": "code",
        "colab": {
          "base_uri": "https://localhost:8080/",
          "height": 50
        },
        "outputId": "13f0370b-b17f-4ecf-f9a0-6c7ed474b6d5"
      },
      "source": [
        "a = 10\n",
        "b = 30\n",
        "\n",
        "C = [a,b]\n",
        "D = [b,a]\n",
        "A = [C, D]\n",
        "\n",
        "A == C\n",
        "\n",
        "print(A)\n",
        "print(C)"
      ],
      "execution_count": null,
      "outputs": [
        {
          "output_type": "stream",
          "text": [
            "[[10, 30], [30, 10]]\n",
            "[10, 30]\n"
          ],
          "name": "stdout"
        }
      ]
    },
    {
      "cell_type": "markdown",
      "metadata": {
        "id": "uD19oUpGQMhf",
        "colab_type": "text"
      },
      "source": [
        "Transitivo\n",
        "\n",
        "A y B son un conjunto\n",
        "\n",
        "\n",
        "Si A < B y B < C, entonces A < C "
      ]
    },
    {
      "cell_type": "markdown",
      "metadata": {
        "id": "mknnRtt_oCDO",
        "colab_type": "text"
      },
      "source": [
        "Respuesta reducida"
      ]
    },
    {
      "cell_type": "code",
      "metadata": {
        "id": "PWMOaC7LldID",
        "colab_type": "code",
        "colab": {
          "base_uri": "https://localhost:8080/",
          "height": 34
        },
        "outputId": "aff62ef6-7648-43ab-e39a-52349512ef28"
      },
      "source": [
        "A = [1,2,3]\n",
        "B = [1,2,3,5,7]\n",
        "C = [0,1,2,3,4,5,6,7]\n",
        "\n",
        "check = 0\n",
        "\n",
        "if(len(A) != 0):\n",
        "  for a in A:\n",
        "    if(a in B != False):\n",
        "      for b in B:\n",
        "        if(b in C != False):\n",
        "          for a in A:\n",
        "            if(a in C != False):\n",
        "              check = 1\n",
        "else:\n",
        "  print('Lista esta vacia')\n",
        "\n",
        "if(check == 1):\n",
        "  print('A is a subnet from C')\n",
        "else:\n",
        "  print('A is not a subnet from C')\n"
      ],
      "execution_count": null,
      "outputs": [
        {
          "output_type": "stream",
          "text": [
            "A is a subnet from C\n"
          ],
          "name": "stdout"
        }
      ]
    },
    {
      "cell_type": "markdown",
      "metadata": {
        "id": "bXvWgVUBoGnD",
        "colab_type": "text"
      },
      "source": [
        "Respuesta Original"
      ]
    },
    {
      "cell_type": "code",
      "metadata": {
        "id": "ENdohF7UuusL",
        "colab_type": "code",
        "colab": {
          "base_uri": "https://localhost:8080/",
          "height": 84
        },
        "outputId": "f6a13e6b-f0f3-46ca-a2b5-5be5a5576a84"
      },
      "source": [
        "A = [1,2,3]\n",
        "B = [1,2,3,5,7]\n",
        "C = [0,1,2,3,4,5,6,7]\n",
        "\n",
        "check = 0\n",
        "counter = 0\n",
        "lA = len(A)\n",
        "\n",
        "for a in A:\n",
        "  r1 = a in B\n",
        "  if(r1 == True):\n",
        "    counter = counter + 1\n",
        "\n",
        "if(counter == len(A)):\n",
        "  print('Elements of A are present in the list B')\n",
        "  check = 1\n",
        "else:\n",
        "  print('Not all the elements of A are present in B')\n",
        "  check = 0\n",
        "\n",
        "counter = 0\n",
        "if(check == 1):\n",
        "  for b in B:\n",
        "    r2 = b in C\n",
        "    if(r2 == True):\n",
        "      counter = counter + 1\n",
        "\n",
        "  if(counter == len(B)):\n",
        "    print('Elements of B are present in the list C')\n",
        "    check = 1\n",
        "  else:\n",
        "    print('Not all the elements of B are present in C')\n",
        "    check = 0\n",
        "\n",
        "counter = 0\n",
        "if(check == 1):\n",
        "  for a1 in A:\n",
        "    r3 = a1 in C\n",
        "    if(r3 == True):\n",
        "      counter = counter + 1\n",
        "\n",
        "if(counter == len(A)):\n",
        "  print('Elements of A are present in the list C')\n",
        "  check = 1\n",
        "else:\n",
        "  print('Not all the elements of A are present in C')\n",
        "  check = 0\n",
        "\n",
        "if(check == 1):\n",
        "  print('We can conclude that the elements from A is a subset of C')\n",
        "else:\n",
        "  print('We can conclude that the elements from A is not a subset of C')\n"
      ],
      "execution_count": null,
      "outputs": [
        {
          "output_type": "stream",
          "text": [
            "Elements of A are present in the list B\n",
            "Elements of B are present in the list C\n",
            "Elements of A are present in the list C\n",
            "We can conclude that the elements from A is a subset of C\n"
          ],
          "name": "stdout"
        }
      ]
    },
    {
      "cell_type": "markdown",
      "metadata": {
        "id": "6ZGX0KoikmvF",
        "colab_type": "text"
      },
      "source": [
        "\n",
        "\n",
        "```\n",
        "# This is formatted as code\n",
        "```\n",
        "\n",
        "Ejemplo "
      ]
    },
    {
      "cell_type": "code",
      "metadata": {
        "id": "PIZWPTSWkke8",
        "colab_type": "code",
        "colab": {}
      },
      "source": [
        "A = {1,\"hola\",3}\n",
        "B = {1,2,3,123,\"hola\"}\n",
        "C = {1,2,3,\"hola\",10,123}\n",
        "\n",
        "print('A es subconjunto de B: ')\n",
        "print((A.issubset(B)))\n",
        "\n",
        "print('\\nB es subconjunto 😄 ')\n",
        "print(B <= C)\n",
        "\n",
        "print('\\nA es subconjunto 😄 ')\n",
        "print((A.issubset(C)))"
      ],
      "execution_count": null,
      "outputs": []
    },
    {
      "cell_type": "markdown",
      "metadata": {
        "id": "vfeVOUyhow9F",
        "colab_type": "text"
      },
      "source": [
        "07/22/20\n",
        "\n",
        "Un subconjunto vacio es un subconjunto de otro subconjunto vacio\n",
        "\n",
        "0 conjunto vacio\n",
        "\n",
        "0 < A, para todo conjunto A\n"
      ]
    },
    {
      "cell_type": "code",
      "metadata": {
        "id": "H4c3e-YUpEFL",
        "colab_type": "code",
        "colab": {
          "base_uri": "https://localhost:8080/",
          "height": 34
        },
        "outputId": "048180f6-6e4f-40e7-9cdd-39c2e90ef484"
      },
      "source": [
        "A = set()\n",
        "B = set()\n",
        "\n",
        "A.issubset(B)"
      ],
      "execution_count": null,
      "outputs": [
        {
          "output_type": "execute_result",
          "data": {
            "text/plain": [
              "True"
            ]
          },
          "metadata": {
            "tags": []
          },
          "execution_count": 18
        }
      ]
    },
    {
      "cell_type": "markdown",
      "metadata": {
        "id": "WAr9t_m9pmre",
        "colab_type": "text"
      },
      "source": [
        "07/23/20\n",
        "\n",
        "Numeros reales son infinitas\n",
        "\n",
        "Numeros naturales son finitos\n",
        "\n",
        "Conjunto Potencia"
      ]
    },
    {
      "cell_type": "code",
      "metadata": {
        "id": "lY_ytMW4m8gW",
        "colab_type": "code",
        "colab": {
          "base_uri": "https://localhost:8080/",
          "height": 151
        },
        "outputId": "31200978-c4e5-4b72-81de-c8a0c4525ca4"
      },
      "source": [
        "from more_itertools import powerset\n",
        "\n",
        "B = ['a', 'b', 'c']\n",
        "list(powerset(B))"
      ],
      "execution_count": null,
      "outputs": [
        {
          "output_type": "execute_result",
          "data": {
            "text/plain": [
              "[(),\n",
              " ('a',),\n",
              " ('b',),\n",
              " ('c',),\n",
              " ('a', 'b'),\n",
              " ('a', 'c'),\n",
              " ('b', 'c'),\n",
              " ('a', 'b', 'c')]"
            ]
          },
          "metadata": {
            "tags": []
          },
          "execution_count": 17
        }
      ]
    },
    {
      "cell_type": "code",
      "metadata": {
        "id": "GTSD6SbxqB9-",
        "colab_type": "code",
        "colab": {
          "base_uri": "https://localhost:8080/",
          "height": 34
        },
        "outputId": "9a2e400c-0731-43cf-b8ff-fdaebd2522d4"
      },
      "source": [
        "from sympy import FiniteSet\n",
        "C = FiniteSet(1, 2, 3)\n",
        "C.powerset()"
      ],
      "execution_count": null,
      "outputs": [
        {
          "output_type": "execute_result",
          "data": {
            "text/plain": [
              "{EmptySet(), {1}, {2}, {3}, {1, 2}, {1, 3}, {2, 3}, {1, 2, 3}}"
            ]
          },
          "metadata": {
            "tags": []
          },
          "execution_count": 14
        }
      ]
    },
    {
      "cell_type": "code",
      "metadata": {
        "id": "egOx153FrLr9",
        "colab_type": "code",
        "colab": {
          "base_uri": "https://localhost:8080/",
          "height": 151
        },
        "outputId": "e796a651-d50e-4cb3-e059-b325d4fecbaf"
      },
      "source": [
        "import math; \n",
        "  \n",
        "def printPowerSet(set,set_size): \n",
        "      \n",
        "    pow_set_size = (int) (math.pow(2, set_size)); \n",
        "    counter = 0; \n",
        "    j = 0; \n",
        "      \n",
        "    for counter in range(0, pow_set_size): \n",
        "        for j in range(0, set_size): \n",
        "\n",
        "            if((counter & (1 << j)) > 0): \n",
        "                print(set[j], end = \"\"); \n",
        "        print(\"\"); \n",
        "  \n",
        "set = ['1', '2', '3']; \n",
        "printPowerSet(set, 3); "
      ],
      "execution_count": null,
      "outputs": [
        {
          "output_type": "stream",
          "text": [
            "\n",
            "1\n",
            "2\n",
            "12\n",
            "3\n",
            "13\n",
            "23\n",
            "123\n"
          ],
          "name": "stdout"
        }
      ]
    },
    {
      "cell_type": "markdown",
      "metadata": {
        "id": "qRW0PnlVsM-A",
        "colab_type": "text"
      },
      "source": [
        "UNION A U B\n",
        "\n",
        "A = []  b = []\n",
        "\n",
        "AUB = []\n",
        "\n",
        "INTERSECCION A ^ B\n",
        "\n",
        "^  ->  or\n",
        "\n",
        "v  ->  and\n"
      ]
    },
    {
      "cell_type": "code",
      "metadata": {
        "id": "OYVTTDbVr4v4",
        "colab_type": "code",
        "colab": {
          "base_uri": "https://localhost:8080/",
          "height": 34
        },
        "outputId": "9eaeba6a-d296-485a-d190-70b54fa5e646"
      },
      "source": [
        "\n",
        "def Union(lst1, lst2): \n",
        "    final_list = lst1 + lst2 \n",
        "    return final_list \n",
        "  \n",
        "\n",
        "lst1 = [0,1,2,3] \n",
        "lst2 = [-1,-2,-3] \n",
        "print(Union(lst1, lst2))"
      ],
      "execution_count": null,
      "outputs": [
        {
          "output_type": "stream",
          "text": [
            "[0, 1, 2, 3, -1, -2, -3]\n"
          ],
          "name": "stdout"
        }
      ]
    },
    {
      "cell_type": "markdown",
      "metadata": {
        "id": "pZktBalTqnBC",
        "colab_type": "text"
      },
      "source": [
        "INTERSECCION A ^ B"
      ]
    },
    {
      "cell_type": "code",
      "metadata": {
        "id": "SvMIuhOttfqX",
        "colab_type": "code",
        "colab": {
          "base_uri": "https://localhost:8080/",
          "height": 34
        },
        "outputId": "306214e8-8296-4c55-b5e2-7a3fd4ce77ee"
      },
      "source": [
        "def intersection(lst1, lst2): \n",
        "    lst3 = [value for value in lst1 if value in lst2] \n",
        "    return lst3 \n",
        "  \n",
        "lst1 = [4, 9, 1] \n",
        "lst2 = [1, 2, 3] \n",
        "print(intersection(lst1, lst2))"
      ],
      "execution_count": null,
      "outputs": [
        {
          "output_type": "stream",
          "text": [
            "[]\n"
          ],
          "name": "stdout"
        }
      ]
    },
    {
      "cell_type": "markdown",
      "metadata": {
        "id": "H9Ch1jVgDEEk",
        "colab_type": "text"
      },
      "source": [
        "Alfabetos, palabras y lenguajes\n",
        "\n",
        "Lenguaje es un conjunto de palabras\n",
        "\n",
        "Alfabeto = Conjunto no vacio y finito de simbolos (alfabeto es tambien lenguaje)\n",
        "\n",
        "Si E es un alfabeto, o E E denotado  que o es un simbolo de E"
      ]
    },
    {
      "cell_type": "markdown",
      "metadata": {
        "id": "U6LJCZsfrfeO",
        "colab_type": "text"
      },
      "source": [
        "El lenguaje es infinito\n",
        "\n",
        "Alfabetos es un conjunto de simbolos finito y no vacio\n",
        "\n",
        "Comunicacion digital son: E = [0,1]\n",
        "\n",
        "Sistemas de numeros hexadecimal E = [0,1,2,3,...,9]\n",
        "\n",
        "Cada numero representa una palabra \n",
        "\n",
        "¿Cuantos digitos pueden tener un numero? es una cantidad finita\n",
        "\n",
        "Un conjunto vacio si puede ser una palabra en si es el caracter vacio "
      ]
    },
    {
      "cell_type": "code",
      "metadata": {
        "id": "RYGpLU81DI2D",
        "colab_type": "code",
        "colab": {
          "base_uri": "https://localhost:8080/",
          "height": 67
        },
        "outputId": "075a63d9-492c-46b2-a4ab-186eaa245bb7"
      },
      "source": [
        "alphabet_digit = [0,1,2,3,4,5,6,7,8,9]\n",
        "\n",
        "if not alphabet_digit:\n",
        "  print('Is empty and is not a alphabet')\n",
        "\n",
        "def split(word): \n",
        "    return [char for char in word]  \n",
        "\n",
        "num = input (\"Enter number :\") \n",
        "\n",
        "if(num.isnumeric() == True):            #check if is a number\n",
        "  print('Is a valid word method 1')\n",
        "else:\n",
        "  print('Enter a valid number')\n",
        "\n",
        "flag = 0\n",
        "listNum = split(num) \n",
        "for x in listNum:                     #check all the digits\n",
        "  n = int(x)                          #convert string to int\n",
        "  if(n in alphabet_digit == False):\n",
        "    flag = 1\n",
        "\n",
        "if(flag == 0):\n",
        "  print('Is a valid word method 2')\n",
        "else:\n",
        "  print('Is not a valid word')"
      ],
      "execution_count": null,
      "outputs": [
        {
          "output_type": "stream",
          "text": [
            "Enter number :51661\n",
            "Is a valid word method 1\n",
            "Is a valid word method 2\n"
          ],
          "name": "stdout"
        }
      ]
    },
    {
      "cell_type": "markdown",
      "metadata": {
        "id": "MZr8lzOPzas4",
        "colab_type": "text"
      },
      "source": [
        "E = E1  U  E2\n",
        "\n",
        "Palabra = secuencia finito de simbolos de un determinado alfabeto. La longitud es finita.\n",
        "\n",
        "? Como se llama una longitud que tiene cero ? es una cadena vacia\n",
        "\n",
        "Un lengua es un conjunto de palabras {1, 12, 123, 13245, 123456} esete es un ejemplo finito\n",
        "\n",
        "Ejemplo de lenguaje infinito {x | x > 3} y {x^n 0 | x >= 0 , x E D}"
      ]
    },
    {
      "cell_type": "code",
      "metadata": {
        "id": "4HEFF4EW1Nvb",
        "colab_type": "code",
        "colab": {
          "base_uri": "https://localhost:8080/",
          "height": 134
        },
        "outputId": "e4ff49a6-53e9-4243-e603-aab42a97abc7"
      },
      "source": [
        "alphabet_digit = [0,1,2,3,4,5,6,7,8,9]\n",
        "list_word = [1,12,132,12345,123456,999,0000]\n",
        "\n",
        "def split(word): \n",
        "    return [char for char in word]  \n",
        "\n",
        "counter = 0\n",
        "\n",
        "for w in list_word:\n",
        "  word = str(w)       #convert int to str\n",
        "  list1 = split(word)     #split each number in digits\n",
        "  counter = counter + 1\n",
        "  for n in list1:\n",
        "    n = int(n)\n",
        "    if(n in alphabet_digit == False):\n",
        "      print('Is not a valid word')\n",
        "      break\n",
        "  a = str(counter)\n",
        "  print(a + ')' + ' is a valid word')\n",
        "\n",
        "    "
      ],
      "execution_count": null,
      "outputs": [
        {
          "output_type": "stream",
          "text": [
            "1) is a valid word\n",
            "2) is a valid word\n",
            "3) is a valid word\n",
            "4) is a valid word\n",
            "5) is a valid word\n",
            "6) is a valid word\n",
            "7) is a valid word\n"
          ],
          "name": "stdout"
        }
      ]
    },
    {
      "cell_type": "markdown",
      "metadata": {
        "id": "TiyZ3drZ3CBn",
        "colab_type": "text"
      },
      "source": [
        "SEMANA 2\n",
        "\n",
        "\n",
        "---\n",
        "\n",
        "\n",
        "\n",
        "07/27/20\n",
        "\n",
        "Un lenguaje por compuesto por ninguna cada es un lenguaje vacio. Se denota **'∅'**  (Lenguaje que no tenga palabras por lo tanto podemos tener un lenguaje que no tengan palabras)\n",
        "\n",
        "Tenemos palabras que no tenga simbolos\n",
        "\n",
        "Ɛ es una cadena vacia \n",
        "\n",
        "∅ no hay nada\n",
        "\n",
        "∅ ≠ {Ɛ}\n"
      ]
    },
    {
      "cell_type": "code",
      "metadata": {
        "id": "qvdnMbDDwrr0",
        "colab_type": "code",
        "colab": {
          "base_uri": "https://localhost:8080/",
          "height": 50
        },
        "outputId": "a37c22d2-7ffd-4df6-8bf9-7b76f107bb5c"
      },
      "source": [
        "a = {*()}\n",
        "print(a)\n",
        "\n",
        "b = \"\"\n",
        "print(b)"
      ],
      "execution_count": null,
      "outputs": [
        {
          "output_type": "stream",
          "text": [
            "set()\n",
            "\n"
          ],
          "name": "stdout"
        }
      ]
    },
    {
      "cell_type": "markdown",
      "metadata": {
        "id": "GjTYBD7dw4Fj",
        "colab_type": "text"
      },
      "source": [
        "Sea Ɛ un alfabeto y W es una cadena sobre Ɛ.\n",
        "Si L es el lenguaje formado por algunas cadenas sobre Ɛ y si W esta en L\n",
        "entonces se tiene que W Ɛ L, y se dice que W es un elemento de L, o\n",
        "W es un miembro de L\n",
        "\n",
        "121 Ɛ {1, 12, 121, 1212, 12121}"
      ]
    },
    {
      "cell_type": "code",
      "metadata": {
        "id": "gxTx1ZRPw6Rj",
        "colab_type": "code",
        "colab": {
          "base_uri": "https://localhost:8080/",
          "height": 33
        },
        "outputId": "91748417-798c-4e4f-dc23-8f695ee1ca12"
      },
      "source": [
        "121 in [1,12,121,1212,12121]"
      ],
      "execution_count": null,
      "outputs": [
        {
          "output_type": "execute_result",
          "data": {
            "text/plain": [
              "True"
            ]
          },
          "metadata": {
            "tags": []
          },
          "execution_count": 2
        }
      ]
    },
    {
      "cell_type": "markdown",
      "metadata": {
        "id": "8hTUVNLFQOWq",
        "colab_type": "text"
      },
      "source": [
        "[RegEx Library Link](https://www.w3schools.com/python/python_regex.asp#findall)\n",
        "\n",
        "La Cerradura de Ɛ - Todas las cadenas formadas por el alfabeto Ɛ, Se donota Ɛ*\n",
        "\n",
        "Es un conjunto infinito. El orden si importa. \n",
        "\n",
        "Ɛ* = {Ɛ,1,11,111,1111,...}\n",
        "\n",
        "* Cerradura (+) = sin tomar en cuenta la cadena vacia\n",
        "\n",
        "* Cerradura (*) = mas la cadena vacia. Acepta la cadena vacio aoarte del el conjunto de combinaciones de simbolos tambien.\n",
        "\n",
        "Ejercicios\n",
        "_________________\n",
        "A acepta que al menos va haber uno\n",
        "A* varias combinaciones\n",
        "\n",
        "(A*)* -> A+ (vamos a tener uno o mas)\n",
        "\n",
        "(A+)*= -> A* (puede ser 0 o ninguna)\n",
        "\n",
        "A*.A* -> A*\n"
      ]
    },
    {
      "cell_type": "code",
      "metadata": {
        "id": "3y24XqDWYSPQ",
        "colab_type": "code",
        "colab": {
          "base_uri": "https://localhost:8080/",
          "height": 67
        },
        "outputId": "2e212fc0-b17d-4db1-ed7e-3a0d608274a3"
      },
      "source": [
        "A = {'1','2','3'}\n",
        "\n",
        "A_asterisco = {'','1','2','3','12','13','23','21'}\n",
        "\n",
        "\n",
        "import re\n",
        "\n",
        "re_str1= '1*2*3*'\n",
        "re_str2= \"[1|2|3|5|7]*\"\n",
        "re_str3= \"[1-7]*\" #debe ir en secuencia para dar match\n",
        "\n",
        "prog = re.compile(re_str1)\n",
        "result = prog.match('6312322212312312332212321222212111')\n",
        "print(result)\n",
        "\n",
        "prog = re.compile(re_str2)\n",
        "result = prog.match('6312322212312312332212321222212111')\n",
        "print(result)\n",
        "\n",
        "prog = re.compile(re_str3)\n",
        "result = prog.match('6312322212312312332212321222212111')\n",
        "print(result)"
      ],
      "execution_count": null,
      "outputs": [
        {
          "output_type": "stream",
          "text": [
            "<_sre.SRE_Match object; span=(0, 0), match=''>\n",
            "<_sre.SRE_Match object; span=(0, 0), match=''>\n",
            "<_sre.SRE_Match object; span=(0, 34), match='6312322212312312332212321222212111'>\n"
          ],
          "name": "stdout"
        }
      ]
    },
    {
      "cell_type": "code",
      "metadata": {
        "id": "htaecrL9aPA4",
        "colab_type": "code",
        "colab": {}
      },
      "source": [
        "import re\n",
        "pattern = '[_]*[a-z|A-Z|1-9|_]+'\n",
        "\n",
        "test_string = '123'\n",
        "result = re.match(pattern, test_string)\n",
        "\n",
        "if result:\n",
        "  print('Match')\n",
        "else:\n",
        "  print('nO MATCH')"
      ],
      "execution_count": null,
      "outputs": []
    },
    {
      "cell_type": "markdown",
      "metadata": {
        "id": "-GHvdkR8LlWn",
        "colab_type": "text"
      },
      "source": [
        "07/28/20\n",
        "\n",
        "REPASO\n",
        "* Alfabeto es un conjunto no vacio y escritos en simbolos(unidad minima).\n",
        "* Las Palabras se construye encima de esos alfabetos. Palabras tiene longitud finita. \n",
        "* Lenguaje es un conjunto de palabra puede ser finito o infinito. Lenguajes pueden no tener palabras seria un lenguaje vacio. \n",
        "\n",
        "* Interseccion A n B debe pertenecer a ambos simultaneamente\n",
        "* Diferencia A - B que el elemento de A no pertenesca B ese seria resultado de la union\n",
        "\n",
        "* El conjunto vacio es un subconjunto. Pero la cadena vacia (Ɛ) no es un subconjunto de todos los lenguajes. \n",
        "\n",
        "* Sublenguaje es un lenguaje cuyo elementos estan contenidos en otro mas. \n",
        "\n"
      ]
    },
    {
      "cell_type": "markdown",
      "metadata": {
        "id": "u8bKdOYo1dDx",
        "colab_type": "text"
      },
      "source": [
        "Operacion con Lenguajes\n",
        "\n",
        "* UNION A u B = {x | x E A o x E B}\n",
        "* INTERSECCION A ∩ B \n",
        "* Diferencia A - B"
      ]
    },
    {
      "cell_type": "code",
      "metadata": {
        "id": "xzDwm5urx1Cz",
        "colab_type": "code",
        "colab": {
          "base_uri": "https://localhost:8080/",
          "height": 67
        },
        "outputId": "ad123e19-d48b-4b8d-d257-fdc930d10632"
      },
      "source": [
        "listA = {(),\"0\",\"1\",\"10\",\"11\"}\n",
        "listB = {(),\"1\",\"0110\",\"11010\"}\n",
        "\n",
        "print(\"A u B \", listA.union(listB))\n",
        "print(\"A ∩ B \", listA.intersection(listB))\n",
        "print(\"A - B \", listA.difference(listB))"
      ],
      "execution_count": null,
      "outputs": [
        {
          "output_type": "stream",
          "text": [
            "A u B  {'11010', (), '0110', '11', '1', '10', '0'}\n",
            "A ∩ B  {'1', ()}\n",
            "A - B  {'11', '10', '0'}\n"
          ],
          "name": "stdout"
        }
      ]
    },
    {
      "cell_type": "markdown",
      "metadata": {
        "id": "aWwKFFWnyuMZ",
        "colab_type": "text"
      },
      "source": [
        "[Information LINK](https://realpython.com/python-string-split-concatenate-join/)\n",
        "\n",
        "* Concatenacion \n",
        "\n",
        "* A•b = AB = {ab | a Ɛ A y b Ɛ B}. El orden es importante pq estamos uniondo palabras con simbolos. Basicamente es una multiplicacion de cada elemento de A y B. Si las palabras tienen la misma secuencia (duplicadas) no se colocan. \n",
        "[ A={00,01} y B={1,10}  ->  AB={001,0010,011,0110}]"
      ]
    },
    {
      "cell_type": "code",
      "metadata": {
        "id": "TlYZpoxOb5tH",
        "colab_type": "code",
        "colab": {
          "base_uri": "https://localhost:8080/",
          "height": 33
        },
        "outputId": "a3de9cd1-4c90-4896-cc24-62bca3f6bfe8"
      },
      "source": [
        "A = [\"00\", \"01\"]\n",
        "B = [\"1\", \"10\"]\n",
        "\n",
        "print(A[0] + B[0] + \",\" + A[0] + B[1]  + \",\" + A[1]+B[0] + \",\" + A[1]+B[1])\n"
      ],
      "execution_count": null,
      "outputs": [
        {
          "output_type": "stream",
          "text": [
            "001,0010,011,0110\n"
          ],
          "name": "stdout"
        }
      ]
    },
    {
      "cell_type": "code",
      "metadata": {
        "id": "7ftdITv6cslT",
        "colab_type": "code",
        "colab": {
          "base_uri": "https://localhost:8080/",
          "height": 84
        },
        "outputId": "ad697099-4646-4aba-f55a-f2666cd2f12f"
      },
      "source": [
        "test_list1 = [\"00\", \"01\"] \n",
        "test_list2 = [\"1\" , \"10\"] \n",
        "\n",
        "for x in test_list1:\n",
        "  for y in test_list2:\n",
        "    print(x + y)"
      ],
      "execution_count": null,
      "outputs": [
        {
          "output_type": "stream",
          "text": [
            "001\n",
            "0010\n",
            "011\n",
            "0110\n"
          ],
          "name": "stdout"
        }
      ]
    },
    {
      "cell_type": "markdown",
      "metadata": {
        "id": "FibEPnVm512G",
        "colab_type": "text"
      },
      "source": [
        "* POTENCIAS"
      ]
    },
    {
      "cell_type": "code",
      "metadata": {
        "id": "1QvwmaQn53xy",
        "colab_type": "code",
        "colab": {
          "base_uri": "https://localhost:8080/",
          "height": 284
        },
        "outputId": "eb2ba083-1423-46c5-a7a8-effeadf6cb40"
      },
      "source": [
        "from more_itertools \n",
        "import powerset\n",
        "\n",
        "#Prints all the posible combinations\n",
        "list(powerset(\"abab\"))"
      ],
      "execution_count": null,
      "outputs": [
        {
          "output_type": "execute_result",
          "data": {
            "text/plain": [
              "[(),\n",
              " ('a',),\n",
              " ('b',),\n",
              " ('a',),\n",
              " ('b',),\n",
              " ('a', 'b'),\n",
              " ('a', 'a'),\n",
              " ('a', 'b'),\n",
              " ('b', 'a'),\n",
              " ('b', 'b'),\n",
              " ('a', 'b'),\n",
              " ('a', 'b', 'a'),\n",
              " ('a', 'b', 'b'),\n",
              " ('a', 'a', 'b'),\n",
              " ('b', 'a', 'b'),\n",
              " ('a', 'b', 'a', 'b')]"
            ]
          },
          "metadata": {
            "tags": []
          },
          "execution_count": 29
        }
      ]
    },
    {
      "cell_type": "markdown",
      "metadata": {
        "id": "5mo5aoc_7oET",
        "colab_type": "text"
      },
      "source": [
        "* Cadena \n",
        "\n",
        "Lenguaje es un conjunto de palabra {1,12,132,12345,123456} <- Finito\n",
        "\n",
        "Si Ɛ es un alfabeto tambies es un lenguaje \n",
        "\n",
        "Lenguajes:\n",
        "* Palabras correctas\n",
        "* Cadenas finitas de unos {1,11,111,1111,...}"
      ]
    },
    {
      "cell_type": "code",
      "metadata": {
        "id": "b7p6S80I7ngN",
        "colab_type": "code",
        "colab": {
          "base_uri": "https://localhost:8080/",
          "height": 201
        },
        "outputId": "8e162332-c72c-41bd-a0d5-ca3027e9cbbe"
      },
      "source": [
        "import keyword \n",
        "import keyword \n",
        "# initializing strings for testing while putting them in an array \n",
        "keys = [\"apple\", \"while\", \"tanisha\", \"car\", \"sky\", \n",
        "\"elif\", \"assert\", \"pulkit\", \"lambda\", \"else\", \"sakshar\"] \n",
        "  \n",
        "for i in range(len(keys)): \n",
        "     # checking which are keywords \n",
        "    if keyword.iskeyword(keys[i]): \n",
        "        print(keys[i] + \" Valid Word\") \n",
        "    else: \n",
        "        print(keys[i] + \" Invalid Word\") "
      ],
      "execution_count": null,
      "outputs": [
        {
          "output_type": "stream",
          "text": [
            "apple Invalid Word\n",
            "while Valid Word\n",
            "tanisha Invalid Word\n",
            "car Invalid Word\n",
            "sky Invalid Word\n",
            "elif Valid Word\n",
            "assert Valid Word\n",
            "pulkit Invalid Word\n",
            "lambda Valid Word\n",
            "else Valid Word\n",
            "sakshar Invalid Word\n"
          ],
          "name": "stdout"
        }
      ]
    },
    {
      "cell_type": "markdown",
      "metadata": {
        "id": "yQuEA8x_g02M",
        "colab_type": "text"
      },
      "source": [
        "Lenguajes Regulares: son lenguajes contruidos ded un alfabeto.\n",
        "\n",
        "* Procesamiento lexico identificar es una separacion de elmentos si pertencen o no al lenguaje. \n",
        "\n",
        "* Automatas es una maquina (M). \n",
        "\n",
        "M = (Q,Ɛ,S,F,)\n",
        "* Q = Estados\n",
        "* Ɛ = simbolos\n",
        "* F = estado final o finales (se representa con doble circulo o cuualquier simbolo)\n",
        "* S = estado incial\n",
        "* Para que forme parte del lenguaje debe trminar en un estado final.\n",
        "* Ɛ si pertence siempre y cuando el estado incial sea el estado final tambien. "
      ]
    },
    {
      "cell_type": "markdown",
      "metadata": {
        "id": "-fndVp0wIj7V",
        "colab_type": "text"
      },
      "source": [
        "07/29/20\n",
        "\n",
        "GRAFOS  [Python Graph Advance](https://www.python-course.eu/networkx.php)\n",
        "\n",
        "El AUTOMATE tiene o crea su propia lenguaje\n",
        "\n",
        "* Solo hay un estado incial (escalar)\n",
        "* Los grafos se pueden mostrar en un diagrama y una tabla de estado.\n",
        "\n",
        "CONDICIONES:\n",
        "\n",
        "* Cuando el nodo se apunta asi mismo como un loop es un esatado de rechazo. No siempre se necesita. Se debe tomar en cuenta se debe consumir la cadena.\n",
        "* Si no se puede leer toda la cadena, evaluarla o consumirla no forma parte del lenguaje del automata.\n",
        "* Se debe identificar si es un OR o un AND.\n",
        "* Se acpeta conjunto vacio si el estado incial es final tambien. \n"
      ]
    },
    {
      "cell_type": "code",
      "metadata": {
        "id": "5IZj2firEu27",
        "colab_type": "code",
        "colab": {
          "base_uri": "https://localhost:8080/",
          "height": 386
        },
        "outputId": "45ff40e6-e826-4155-a4c2-f4435f24b0f3"
      },
      "source": [
        "import networkx as nx\n",
        "import matplotlib.pyplot as plt\n",
        "\n",
        "G=nx.path_graph(4)\n",
        "cities = {0:\"Toronto\",1:\"London\",2:\"Berlin\",3:\"New York\"}\n",
        "\n",
        "H=nx.relabel_nodes(G,cities)\n",
        " \n",
        "print(\"Nodes of graph: \")\n",
        "print(H.nodes())\n",
        "print(\"Edges of graph: \")\n",
        "print(H.edges())\n",
        "nx.draw(H)\n",
        "plt.show()"
      ],
      "execution_count": null,
      "outputs": [
        {
          "output_type": "stream",
          "text": [
            "Nodes of graph: \n",
            "['Toronto', 'London', 'Berlin', 'New York']\n",
            "Edges of graph: \n",
            "[('Toronto', 'London'), ('London', 'Berlin'), ('Berlin', 'New York')]\n"
          ],
          "name": "stdout"
        },
        {
          "output_type": "display_data",
          "data": {
            "image/png": "[encoded data removed]",
            "text/plain": [
              "<Figure size 432x288 with 1 Axes>"
            ]
          },
          "metadata": {
            "tags": []
          }
        }
      ]
    },
    {
      "cell_type": "code",
      "metadata": {
        "id": "tLcqRh-LqUfj",
        "colab_type": "code",
        "colab": {}
      },
      "source": [
        "import networkx as nx\n",
        "import matplotlib.pyplot as plt\n",
        "\n",
        "G=nx.path_graph(3)\n",
        "\n",
        "G.add_node('q0')\n",
        "G.add_node('q2')\n",
        "G.add_node('q1')"
      ],
      "execution_count": null,
      "outputs": []
    },
    {
      "cell_type": "markdown",
      "metadata": {
        "id": "-yeFSCP8tlUH",
        "colab_type": "text"
      },
      "source": [
        "07/30/20\n",
        "\n",
        "\n"
      ]
    },
    {
      "cell_type": "code",
      "metadata": {
        "id": "Wxxpw3Zs9Cnr",
        "colab_type": "code",
        "colab": {
          "base_uri": "https://localhost:8080/",
          "height": 336
        },
        "outputId": "989e436a-82dd-4e3d-cfa3-d9949d7afe8f"
      },
      "source": [
        "import networkx as nx\n",
        "import matplotlib.pyplot as plt\n",
        "\n",
        "G=nx.Graph()\n",
        "\n",
        "a1 = [('q0','q0',{'weight':1}),\n",
        "      ('q0','q2',{'weight':0}),\n",
        "      ('q2','q2',{'weight':0}),\n",
        "      ('q2','q1',{'weight':1}),\n",
        "      ('q1','q1',{'weight':1}),\n",
        "      ('q1','q1',{'weight':0})]\n",
        "\n",
        "G.add_edges_from(a1)\n",
        "\n",
        "\n",
        "\n",
        "nx.draw(G, with_labels=True)\n",
        "print(G.edges())\n",
        "plt.draw()\n",
        "plt.show()"
      ],
      "execution_count": null,
      "outputs": [
        {
          "output_type": "stream",
          "text": [
            "[('q0', 'q0'), ('q0', 'q2'), ('q2', 'q2'), ('q2', 'q1'), ('q1', 'q1')]\n"
          ],
          "name": "stdout"
        },
        {
          "output_type": "display_data",
          "data": {
            "image/png": "[encoded data removed]",
            "text/plain": [
              "<Figure size 432x288 with 1 Axes>"
            ]
          },
          "metadata": {
            "tags": []
          }
        }
      ]
    },
    {
      "cell_type": "markdown",
      "metadata": {
        "id": "WZhOUzEo2WCD",
        "colab_type": "text"
      },
      "source": [
        "Ejercicios"
      ]
    },
    {
      "cell_type": "code",
      "metadata": {
        "id": "tnqFSAh13AW8",
        "colab_type": "code",
        "colab": {
          "base_uri": "https://localhost:8080/",
          "height": 318
        },
        "outputId": "eab8c165-8b87-48fd-b1d9-e8ec8c7adc02"
      },
      "source": [
        "import networkx as nx\n",
        "import matplotlib.pyplot as plt\n",
        "%matplotlib inline\n",
        "\n",
        "G=nx.MultiGraph()\n",
        "G.add_node('q0')\n",
        "G.add_node('q1')\n",
        "G.add_node('q2')\n",
        "G.add_node('q3')\n",
        "\n",
        "az = [('q0','q0','a'),\n",
        "      ('q0','q1','b'),\n",
        "      ('q1','q0','a'),\n",
        "      ('q1','q2','b'),\n",
        "      ('q2','q0','a'),\n",
        "      ('q2','q3','b'),\n",
        "      ('q3','q3','a'),\n",
        "      ('q3','q3','b'),\n",
        "     ]\n",
        "\n",
        "for x in az:\n",
        "  G.add_edge(x[0], x[1], relation = x[2])\n",
        "\n",
        "print(G.edges())\n",
        "plt.figure(figsize = (4,4))\n",
        "nx.draw_networkx(G, with_label = True)\n",
        "print(\"List of edges:\\n \", list(G.edges(data = True)))\n",
        "\n"
      ],
      "execution_count": null,
      "outputs": [
        {
          "output_type": "stream",
          "text": [
            "[('q0', 'q0'), ('q0', 'q1'), ('q0', 'q1'), ('q0', 'q2'), ('q1', 'q2'), ('q2', 'q3'), ('q3', 'q3'), ('q3', 'q3')]\n",
            "List of edges:\n",
            "  [('q0', 'q0', {'relation': 'a'}), ('q0', 'q1', {'relation': 'b'}), ('q0', 'q1', {'relation': 'a'}), ('q0', 'q2', {'relation': 'a'}), ('q1', 'q2', {'relation': 'b'}), ('q2', 'q3', {'relation': 'b'}), ('q3', 'q3', {'relation': 'a'}), ('q3', 'q3', {'relation': 'b'})]\n"
          ],
          "name": "stdout"
        },
        {
          "output_type": "display_data",
          "data": {
            "image/png": "[encoded data removed]",
            "text/plain": [
              "<Figure size 288x288 with 1 Axes>"
            ]
          },
          "metadata": {
            "tags": []
          }
        }
      ]
    },
    {
      "cell_type": "code",
      "metadata": {
        "id": "UKBOmtsK5f93",
        "colab_type": "code",
        "colab": {
          "base_uri": "https://localhost:8080/",
          "height": 318
        },
        "outputId": "27afd23e-62ee-4a64-c6c2-0c3993eecc48"
      },
      "source": [
        "import networkx as nx\n",
        "import matplotlib.pyplot as plt\n",
        "%matplotlib inline\n",
        "\n",
        "G=nx.MultiGraph()\n",
        "G.add_node('q0')\n",
        "G.add_node('q1')\n",
        "G.add_node('q2')\n",
        "\n",
        "a1 = [('q0','q0','1'),\n",
        "      ('q0','q2','0'),\n",
        "      ('q2','q2','0'),\n",
        "      ('q2','q1','1'),\n",
        "      ('q1','q1','0'),\n",
        "      ('q1','q1','1'),\n",
        "     ]\n",
        "\n",
        "for x in a1:\n",
        "  G.add_edge(x[0], x[1], relation = x[2])\n",
        "\n",
        "print(G.edges())\n",
        "plt.figure(figsize = (4,4))\n",
        "nx.draw_networkx(G, with_label = True, node_color = 'red')\n",
        "print(\"List of edges:\\n \", list(G.edges(data = True)))\n",
        "\n"
      ],
      "execution_count": null,
      "outputs": [
        {
          "output_type": "stream",
          "text": [
            "[('q0', 'q0'), ('q0', 'q2'), ('q1', 'q2'), ('q1', 'q1'), ('q1', 'q1'), ('q2', 'q2')]\n",
            "List of edges:\n",
            "  [('q0', 'q0', {'relation': '1'}), ('q0', 'q2', {'relation': '0'}), ('q1', 'q2', {'relation': '1'}), ('q1', 'q1', {'relation': '0'}), ('q1', 'q1', {'relation': '1'}), ('q2', 'q2', {'relation': '0'})]\n"
          ],
          "name": "stdout"
        },
        {
          "output_type": "display_data",
          "data": {
            "image/png": "[encoded data removed]",
            "text/plain": [
              "<Figure size 288x288 with 1 Axes>"
            ]
          },
          "metadata": {
            "tags": []
          }
        }
      ]
    },
    {
      "cell_type": "code",
      "metadata": {
        "id": "Y6DD-S6hVxCH",
        "colab_type": "code",
        "colab": {
          "base_uri": "https://localhost:8080/",
          "height": 300
        },
        "outputId": "a0dd734f-88be-4997-d53d-589e5a3c2284"
      },
      "source": [
        "import networkx as nx\n",
        "import matplotlib.pyplot as plt\n",
        "%matplotlib inline\n",
        "\n",
        "G=nx.MultiGraph()\n",
        "G.add_node('q0')\n",
        "G.add_node('q1')\n",
        "\n",
        "a1 = [('q0','q0','a'),\n",
        "      ('q0','q1','b'),\n",
        "      ('q1','q0','b'),\n",
        "      ('q1','q1','a'),\n",
        "     ]\n",
        "\n",
        "for x in a1:\n",
        "  G.add_edge(x[0], x[1], relation = x[2])\n",
        "\n",
        "print(G.edges())\n",
        "plt.figure(figsize = (4,4))\n",
        "nx.draw_networkx(G, with_label = True, node_color = 'red')\n",
        "print(\"List of edges:\\n \", list(G.edges(data = True)))\n",
        "\n"
      ],
      "execution_count": null,
      "outputs": [
        {
          "output_type": "stream",
          "text": [
            "[('q0', 'q0'), ('q0', 'q1'), ('q0', 'q1'), ('q1', 'q1')]\n",
            "List of edges:\n",
            "  [('q0', 'q0', {'relation': 'a'}), ('q0', 'q1', {'relation': 'b'}), ('q0', 'q1', {'relation': 'b'}), ('q1', 'q1', {'relation': 'a'})]\n"
          ],
          "name": "stdout"
        },
        {
          "output_type": "display_data",
          "data": {
            "image/png": "[encoded data removed]",
            "text/plain": [
              "<Figure size 288x288 with 1 Axes>"
            ]
          },
          "metadata": {
            "tags": []
          }
        }
      ]
    },
    {
      "cell_type": "code",
      "metadata": {
        "id": "su6H4Bt9KiOV",
        "colab_type": "code",
        "colab": {
          "base_uri": "https://localhost:8080/",
          "height": 50
        },
        "outputId": "a16337f0-f7c6-4572-f58f-a8f23969a279"
      },
      "source": [
        "import networkx as nx\n",
        "import matplotlib.pyplot as plt\n",
        "%matplotlib inline\n",
        "\n",
        "G=nx.MultiGraph()\n",
        "G.add_node('q0')\n",
        "G.add_node('q1')\n",
        "G.add_node('q2')\n",
        "\n",
        "G.add_edge(1, 2, weight=4.7)\n",
        "G.add_edge(3, 4, weight=5.8)\n",
        "\n",
        "\n",
        "for node1, node2, data in G.edges(data=True):\n",
        "    print(data['weight'])\n",
        "    "
      ],
      "execution_count": null,
      "outputs": [
        {
          "output_type": "stream",
          "text": [
            "4.7\n",
            "5.8\n"
          ],
          "name": "stdout"
        }
      ]
    }
  ]
}